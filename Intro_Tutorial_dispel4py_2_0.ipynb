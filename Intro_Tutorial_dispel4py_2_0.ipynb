{
  "nbformat": 4,
  "nbformat_minor": 0,
  "metadata": {
    "colab": {
      "provenance": [],
      "toc_visible": true,
      "authorship_tag": "ABX9TyN6oBvZBfaKwu5gQCtP+vwl",
      "include_colab_link": true
    },
    "kernelspec": {
      "name": "python3",
      "display_name": "Python 3"
    },
    "language_info": {
      "name": "python"
    }
  },
  "cells": [
    {
      "cell_type": "markdown",
      "metadata": {
        "id": "view-in-github",
        "colab_type": "text"
      },
      "source": [
        "<a href=\"https://colab.research.google.com/github/rosafilgueira/Workflows_Seminar/blob/main/Intro_Tutorial_dispel4py_2_0.ipynb\" target=\"_parent\"><img src=\"https://colab.research.google.com/assets/colab-badge.svg\" alt=\"Open In Colab\"/></a>"
      ]
    },
    {
      "cell_type": "markdown",
      "source": [
        "## Installing Conda\n"
      ],
      "metadata": {
        "id": "bzCo-unt_IcV"
      }
    },
    {
      "cell_type": "code",
      "execution_count": 1,
      "metadata": {
        "id": "Q0zwo31C8cWA",
        "colab": {
          "base_uri": "https://localhost:8080/"
        },
        "outputId": "317b0c87-e74a-45cd-9f10-fc8b994d532a"
      },
      "outputs": [
        {
          "output_type": "stream",
          "name": "stdout",
          "text": [
            "\u001b[33mWARNING: Running pip as the 'root' user can result in broken permissions and conflicting behaviour with the system package manager. It is recommended to use a virtual environment instead: https://pip.pypa.io/warnings/venv\u001b[0m\u001b[33m\n",
            "\u001b[0m✨🍰✨ Everything looks OK!\n"
          ]
        }
      ],
      "source": [
        "!pip install -q condacolab\n",
        "import condacolab\n",
        "condacolab.install()"
      ]
    },
    {
      "cell_type": "code",
      "source": [
        "!conda --version\n",
        "!conda create --name d4py_env python=3.10\n",
        "!conda activate d4py_env\n"
      ],
      "metadata": {
        "id": "-B346fcK89AB",
        "colab": {
          "base_uri": "https://localhost:8080/"
        },
        "outputId": "3a8fad9a-7826-425b-e425-84a6de986b9e"
      },
      "execution_count": 2,
      "outputs": [
        {
          "output_type": "stream",
          "name": "stdout",
          "text": [
            "conda 23.11.0\n",
            "Channels:\n",
            " - conda-forge\n",
            "Platform: linux-64\n",
            "Collecting package metadata (repodata.json): - \b\b\\ \b\b| \b\b/ \b\b- \b\b\\ \b\b| \b\b/ \b\b- \b\b\\ \b\bdone\n",
            "Solving environment: / \b\b- \b\bdone\n",
            "\n",
            "\n",
            "==> WARNING: A newer version of conda exists. <==\n",
            "    current version: 23.11.0\n",
            "    latest version: 24.3.0\n",
            "\n",
            "Please update conda by running\n",
            "\n",
            "    $ conda update -n base -c conda-forge conda\n",
            "\n",
            "\n",
            "\n",
            "## Package Plan ##\n",
            "\n",
            "  environment location: /usr/local/envs/d4py_env\n",
            "\n",
            "  added / updated specs:\n",
            "    - python=3.10\n",
            "\n",
            "\n",
            "The following NEW packages will be INSTALLED:\n",
            "\n",
            "  _libgcc_mutex      conda-forge/linux-64::_libgcc_mutex-0.1-conda_forge \n",
            "  _openmp_mutex      conda-forge/linux-64::_openmp_mutex-4.5-2_gnu \n",
            "  bzip2              conda-forge/linux-64::bzip2-1.0.8-hd590300_5 \n",
            "  ca-certificates    conda-forge/linux-64::ca-certificates-2024.2.2-hbcca054_0 \n",
            "  ld_impl_linux-64   conda-forge/linux-64::ld_impl_linux-64-2.40-h41732ed_0 \n",
            "  libffi             conda-forge/linux-64::libffi-3.4.2-h7f98852_5 \n",
            "  libgcc-ng          conda-forge/linux-64::libgcc-ng-13.2.0-h807b86a_5 \n",
            "  libgomp            conda-forge/linux-64::libgomp-13.2.0-h807b86a_5 \n",
            "  libnsl             conda-forge/linux-64::libnsl-2.0.1-hd590300_0 \n",
            "  libsqlite          conda-forge/linux-64::libsqlite-3.45.2-h2797004_0 \n",
            "  libuuid            conda-forge/linux-64::libuuid-2.38.1-h0b41bf4_0 \n",
            "  libxcrypt          conda-forge/linux-64::libxcrypt-4.4.36-hd590300_1 \n",
            "  libzlib            conda-forge/linux-64::libzlib-1.2.13-hd590300_5 \n",
            "  ncurses            conda-forge/linux-64::ncurses-6.4.20240210-h59595ed_0 \n",
            "  openssl            conda-forge/linux-64::openssl-3.2.1-hd590300_1 \n",
            "  pip                conda-forge/noarch::pip-24.0-pyhd8ed1ab_0 \n",
            "  python             conda-forge/linux-64::python-3.10.14-hd12c33a_0_cpython \n",
            "  readline           conda-forge/linux-64::readline-8.2-h8228510_1 \n",
            "  setuptools         conda-forge/noarch::setuptools-69.2.0-pyhd8ed1ab_0 \n",
            "  tk                 conda-forge/linux-64::tk-8.6.13-noxft_h4845f30_101 \n",
            "  tzdata             conda-forge/noarch::tzdata-2024a-h0c530f3_0 \n",
            "  wheel              conda-forge/noarch::wheel-0.43.0-pyhd8ed1ab_1 \n",
            "  xz                 conda-forge/linux-64::xz-5.2.6-h166bdaf_0 \n",
            "\n",
            "\n",
            "\n",
            "Downloading and Extracting Packages:\n",
            "\n",
            "Preparing transaction: | \b\b/ \b\b- \b\bdone\n",
            "Verifying transaction: | \b\b/ \b\b- \b\b\\ \b\b| \b\b/ \b\b- \b\b\\ \b\b| \b\b/ \b\b- \b\b\\ \b\b| \b\b/ \b\b- \b\b\\ \b\b| \b\b/ \b\b- \b\bdone\n",
            "Executing transaction: | \b\b/ \b\b- \b\b\\ \b\b| \b\b/ \b\b- \b\b\\ \b\b| \b\b/ \b\b- \b\b\\ \b\b| \b\b/ \b\b- \b\b\\ \b\b| \b\b/ \b\b- \b\b\\ \b\b| \b\b/ \b\b- \b\b\\ \b\b| \b\b/ \b\b- \b\b\\ \b\b| \b\b/ \b\b- \b\b\\ \b\b| \b\b/ \b\b- \b\b\\ \b\b| \b\b/ \b\b- \b\b\\ \b\b| \b\b/ \b\b- \b\b\\ \b\b| \b\b/ \b\b- \b\b\\ \b\b| \b\b/ \b\b- \b\b\\ \b\b| \b\bdone\n",
            "#\n",
            "# To activate this environment, use\n",
            "#\n",
            "#     $ conda activate d4py_env\n",
            "#\n",
            "# To deactivate an active environment, use\n",
            "#\n",
            "#     $ conda deactivate\n",
            "\n",
            "\n",
            "CondaError: Run 'conda init' before 'conda activate'\n",
            "\n"
          ]
        }
      ]
    },
    {
      "cell_type": "markdown",
      "source": [
        "## Installing dispel4py"
      ],
      "metadata": {
        "id": "uZ_1ANt1_dxL"
      }
    },
    {
      "cell_type": "code",
      "source": [
        "#Version 1:\n",
        "#!pip install mpi4py\n",
        "!pip install stream-d4py\n",
        "\n",
        "# Version 2:\n",
        "#!git clone https://github.com/StreamingFlow/d4py.git\n",
        "#%cd d4py\n",
        "#!pip install mpi4py\n",
        "#!python setup.py install"
      ],
      "metadata": {
        "id": "9qUHZKAJ9L-z",
        "colab": {
          "base_uri": "https://localhost:8080/"
        },
        "outputId": "4d289f6b-6e19-46f7-fb43-ec54eeeb9d8d"
      },
      "execution_count": 6,
      "outputs": [
        {
          "output_type": "stream",
          "name": "stdout",
          "text": [
            "Collecting stream-d4py\n",
            "  Using cached stream_d4py-2.9.1-py3-none-any.whl.metadata (10 kB)\n",
            "Collecting flake8 (from stream-d4py)\n",
            "  Using cached flake8-7.0.0-py2.py3-none-any.whl.metadata (3.8 kB)\n",
            "Collecting networkx (from stream-d4py)\n",
            "  Using cached networkx-3.3-py3-none-any.whl.metadata (5.1 kB)\n",
            "Collecting pyzmq (from stream-d4py)\n",
            "  Using cached pyzmq-25.1.2-cp310-cp310-manylinux_2_28_x86_64.whl.metadata (4.9 kB)\n",
            "Collecting redis (from stream-d4py)\n",
            "  Using cached redis-5.0.3-py3-none-any.whl.metadata (9.3 kB)\n",
            "Collecting regex (from stream-d4py)\n",
            "  Using cached regex-2023.12.25-cp310-cp310-manylinux_2_17_x86_64.manylinux2014_x86_64.whl.metadata (40 kB)\n",
            "Requirement already satisfied: tqdm in /usr/local/lib/python3.10/site-packages (from stream-d4py) (4.66.1)\n",
            "Requirement already satisfied: urllib3 in /usr/local/lib/python3.10/site-packages (from stream-d4py) (2.1.0)\n",
            "Requirement already satisfied: setuptools in /usr/local/lib/python3.10/site-packages (from stream-d4py) (68.2.2)\n",
            "Collecting coloredlogs (from stream-d4py)\n",
            "  Using cached coloredlogs-15.0.1-py2.py3-none-any.whl.metadata (12 kB)\n",
            "Collecting ujson (from stream-d4py)\n",
            "  Using cached ujson-5.9.0-cp310-cp310-manylinux_2_17_x86_64.manylinux2014_x86_64.whl.metadata (8.7 kB)\n",
            "Collecting jwt (from stream-d4py)\n",
            "  Using cached jwt-1.3.1-py3-none-any.whl.metadata (3.4 kB)\n",
            "Collecting numpy (from stream-d4py)\n",
            "  Using cached numpy-1.26.4-cp310-cp310-manylinux_2_17_x86_64.manylinux2014_x86_64.whl.metadata (61 kB)\n",
            "Collecting humanfriendly>=9.1 (from coloredlogs->stream-d4py)\n",
            "  Using cached humanfriendly-10.0-py2.py3-none-any.whl.metadata (9.2 kB)\n",
            "Collecting mccabe<0.8.0,>=0.7.0 (from flake8->stream-d4py)\n",
            "  Using cached mccabe-0.7.0-py2.py3-none-any.whl.metadata (5.0 kB)\n",
            "Collecting pycodestyle<2.12.0,>=2.11.0 (from flake8->stream-d4py)\n",
            "  Using cached pycodestyle-2.11.1-py2.py3-none-any.whl.metadata (4.5 kB)\n",
            "Collecting pyflakes<3.3.0,>=3.2.0 (from flake8->stream-d4py)\n",
            "  Using cached pyflakes-3.2.0-py2.py3-none-any.whl.metadata (3.5 kB)\n",
            "Collecting cryptography!=3.4.0,>=3.1 (from jwt->stream-d4py)\n",
            "  Using cached cryptography-42.0.5-cp39-abi3-manylinux_2_28_x86_64.whl.metadata (5.3 kB)\n",
            "Collecting async-timeout>=4.0.3 (from redis->stream-d4py)\n",
            "  Using cached async_timeout-4.0.3-py3-none-any.whl.metadata (4.2 kB)\n",
            "Requirement already satisfied: cffi>=1.12 in /usr/local/lib/python3.10/site-packages (from cryptography!=3.4.0,>=3.1->jwt->stream-d4py) (1.16.0)\n",
            "Requirement already satisfied: pycparser in /usr/local/lib/python3.10/site-packages (from cffi>=1.12->cryptography!=3.4.0,>=3.1->jwt->stream-d4py) (2.21)\n",
            "Using cached stream_d4py-2.9.1-py3-none-any.whl (121 kB)\n",
            "Using cached coloredlogs-15.0.1-py2.py3-none-any.whl (46 kB)\n",
            "Using cached flake8-7.0.0-py2.py3-none-any.whl (57 kB)\n",
            "Using cached jwt-1.3.1-py3-none-any.whl (18 kB)\n",
            "Using cached networkx-3.3-py3-none-any.whl (1.7 MB)\n",
            "Using cached numpy-1.26.4-cp310-cp310-manylinux_2_17_x86_64.manylinux2014_x86_64.whl (18.2 MB)\n",
            "Using cached pyzmq-25.1.2-cp310-cp310-manylinux_2_28_x86_64.whl (1.1 MB)\n",
            "Using cached redis-5.0.3-py3-none-any.whl (251 kB)\n",
            "Using cached regex-2023.12.25-cp310-cp310-manylinux_2_17_x86_64.manylinux2014_x86_64.whl (773 kB)\n",
            "Using cached ujson-5.9.0-cp310-cp310-manylinux_2_17_x86_64.manylinux2014_x86_64.whl (53 kB)\n",
            "Using cached async_timeout-4.0.3-py3-none-any.whl (5.7 kB)\n",
            "Downloading cryptography-42.0.5-cp39-abi3-manylinux_2_28_x86_64.whl (4.6 MB)\n",
            "\u001b[2K   \u001b[90m━━━━━━━━━━━━━━━━━━━━━━━━━━━━━━━━━━━━━━━━\u001b[0m \u001b[32m4.6/4.6 MB\u001b[0m \u001b[31m15.7 MB/s\u001b[0m eta \u001b[36m0:00:00\u001b[0m\n",
            "\u001b[?25hDownloading humanfriendly-10.0-py2.py3-none-any.whl (86 kB)\n",
            "\u001b[2K   \u001b[90m━━━━━━━━━━━━━━━━━━━━━━━━━━━━━━━━━━━━━━━━\u001b[0m \u001b[32m86.8/86.8 kB\u001b[0m \u001b[31m5.2 MB/s\u001b[0m eta \u001b[36m0:00:00\u001b[0m\n",
            "\u001b[?25hDownloading mccabe-0.7.0-py2.py3-none-any.whl (7.3 kB)\n",
            "Downloading pycodestyle-2.11.1-py2.py3-none-any.whl (31 kB)\n",
            "Downloading pyflakes-3.2.0-py2.py3-none-any.whl (62 kB)\n",
            "\u001b[2K   \u001b[90m━━━━━━━━━━━━━━━━━━━━━━━━━━━━━━━━━━━━━━━━\u001b[0m \u001b[32m62.7/62.7 kB\u001b[0m \u001b[31m4.3 MB/s\u001b[0m eta \u001b[36m0:00:00\u001b[0m\n",
            "\u001b[?25hInstalling collected packages: ujson, regex, pyzmq, pyflakes, pycodestyle, numpy, networkx, mccabe, humanfriendly, async-timeout, redis, flake8, cryptography, coloredlogs, jwt, stream-d4py\n",
            "Successfully installed async-timeout-4.0.3 coloredlogs-15.0.1 cryptography-42.0.5 flake8-7.0.0 humanfriendly-10.0 jwt-1.3.1 mccabe-0.7.0 networkx-3.3 numpy-1.26.4 pycodestyle-2.11.1 pyflakes-3.2.0 pyzmq-25.1.2 redis-5.0.3 regex-2023.12.25 stream-d4py-2.9.1 ujson-5.9.0\n",
            "\u001b[33mWARNING: Running pip as the 'root' user can result in broken permissions and conflicting behaviour with the system package manager. It is recommended to use a virtual environment instead: https://pip.pypa.io/warnings/venv\u001b[0m\u001b[33m\n",
            "\u001b[0m"
          ]
        }
      ]
    },
    {
      "cell_type": "markdown",
      "source": [
        "### Functons to copy cells into files\n",
        "\n",
        "We are going to use the functions bellow to copy the code that we have in cell text into files, so later we can run dispel4py using the command line and given it dispel4py workflows stored as files."
      ],
      "metadata": {
        "id": "s6jrWPmuMPi5"
      }
    },
    {
      "cell_type": "code",
      "source": [
        "# some magic so we can copy \"text cells\" into file\n",
        "from google.colab import _message\n",
        "\n",
        "def write_cell_above_to_file(search_term, filename):\n",
        "  cell = get_cell_above(search_term)\n",
        "  code_block = get_cell_code_block(cell)\n",
        "  with open(filename, 'w') as fp:\n",
        "    fp.writelines(code_block)\n",
        "\n",
        "def get_cell_above(search_term):\n",
        "  # Load the notebook JSON.\n",
        "  nb = _message.blocking_request('get_ipynb')\n",
        "\n",
        "  # Search for current markdown cell (using search term)\n",
        "  for i, cell in enumerate(nb['ipynb']['cells']):\n",
        "    if search_term in ''.join(cell['source']):\n",
        "      return nb['ipynb']['cells'][i - 1]\n",
        "\n",
        "def get_cell_code_block(cell):\n",
        "  # Get the code block in previous cell\n",
        "  cell_lines = cell['source']\n",
        "  code_block = []\n",
        "  in_block = False\n",
        "  for ln in cell_lines:\n",
        "    if '```' in ln:\n",
        "      in_block = not in_block  # boolean switch\n",
        "    else:\n",
        "      if in_block:\n",
        "        code_block.append(ln)\n",
        "  return code_block\n"
      ],
      "metadata": {
        "id": "7jC_9egfEaAr"
      },
      "execution_count": 35,
      "outputs": []
    },
    {
      "cell_type": "markdown",
      "source": [
        "## Testing dispel4py"
      ],
      "metadata": {
        "id": "o5YMR3-N_jRQ"
      }
    },
    {
      "cell_type": "code",
      "source": [
        "## Simple mapping\n",
        "!dispel4py simple dispel4py.examples.graph_testing.word_count -i 10"
      ],
      "metadata": {
        "id": "uT3SQpxb_nVq",
        "colab": {
          "base_uri": "https://localhost:8080/"
        },
        "outputId": "03edcaa3-8cbe-42b3-b7d5-19b0c12a44b1"
      },
      "execution_count": 7,
      "outputs": [
        {
          "output_type": "stream",
          "name": "stdout",
          "text": [
            "Processing 10 iterations.\n",
            "RUN ARGS: \n",
            "Namespace(target='simple', module='dispel4py.examples.graph_testing.word_count', attr=None, file=None, data=None, iter=10, provenance=None)\n",
            "==========\n",
            "Inputs: {'RandomWordProducer0': 10}\n",
            "SimplePE: Processed 1 iteration.\n",
            "Outputs: {'WordCounter1': {'output': [['Modelling', 1], ['Seismology', 1], ['Earthquake', 1], ['Computing', 1], ['Modelling', 2], ['Earthquake', 2], ['Earthquake', 3], ['Modelling', 3], ['Dispel4Py', 1], ['Analysis', 1]]}}\n",
            "ELAPSED TIME: 0.001100301742553711\n"
          ]
        }
      ]
    },
    {
      "cell_type": "code",
      "source": [
        "## Multi mapping\n",
        "!dispel4py multi dispel4py.examples.graph_testing.word_count -i 10 -n 4"
      ],
      "metadata": {
        "id": "9MKCGez9_1fe",
        "colab": {
          "base_uri": "https://localhost:8080/"
        },
        "outputId": "fd837353-2a53-4521-c8ca-598f06065cc0"
      },
      "execution_count": 8,
      "outputs": [
        {
          "output_type": "stream",
          "name": "stdout",
          "text": [
            "Processing 10 iterations.\n",
            "RUN ARGS: \n",
            "Namespace(target='multi', module='dispel4py.examples.graph_testing.word_count', attr=None, file=None, data=None, iter=10, provenance=None, simple=False, num=4)\n",
            "==========\n",
            "Processes: {'RandomWordProducer0': range(0, 1), 'WordCounter1': range(1, 4)}\n",
            "RandomWordProducer0 (rank 0): Processed 10 iterations.\n",
            "WordCounter1 (rank 1): Processed 1 iteration.\n",
            "WordCounter1 (rank 2): Processed 5 iterations.\n",
            "WordCounter1 (rank 3): Processed 4 iterations.\n",
            "ELAPSED TIME: 0.22916555404663086\n"
          ]
        }
      ]
    },
    {
      "cell_type": "markdown",
      "source": [
        "## How to create my first dispel4py workflow\n",
        "\n",
        "This tutorial is an introduction to dispel4py. We will see how to write dispel4py PEs, how to connect them together to form a workflow and how this workflow is executed in different environments.\n",
        "How to write a PE\n",
        "\n",
        "In this section we are going to implement our first PE.\n",
        "\n",
        "First you need to decide what kind of processing the PE will do and what the data units are that it processes. In our example we are implementing a PE that decides if a number is divisible by another number. The PE is configured with this divisor and for each input data item it tests whether the number can be divided by this divisor. It sends the input data item to its output stream if it is not divisible.\n",
        "Create a PE class\n",
        "\n",
        "To start with we create a PE that does only very few things"
      ],
      "metadata": {
        "id": "TgGwbLsB-pRD"
      }
    },
    {
      "cell_type": "markdown",
      "source": [
        "### Create a PE class\n",
        "\n",
        "To start with we create a PE that does only very few things:\n"
      ],
      "metadata": {
        "id": "gWP2v228_FgV"
      }
    },
    {
      "cell_type": "code",
      "source": [
        "from dispel4py.base import IterativePE\n",
        "\n",
        "class MyFirstPE(IterativePE):\n",
        "\n",
        "    def __init__(self, divisor):\n",
        "        IterativePE.__init__(self)\n",
        "        self.divisor = divisor"
      ],
      "metadata": {
        "id": "Wy8qXC-9_H9n"
      },
      "execution_count": 9,
      "outputs": []
    },
    {
      "cell_type": "markdown",
      "source": [
        "In this case we extend the base class `dispel4py.base.IterativePE` which defines one input and one output, which is exactly what we need. We pass the divisor as an initialisation parameter to the object which stores it."
      ],
      "metadata": {
        "id": "wftAgaoN_M37"
      }
    },
    {
      "cell_type": "markdown",
      "source": [
        "### Implement the processing method\n",
        "\n",
        "Now the actual work begins: We have to implement the processing method. This is done by overriding the method of the superclass:"
      ],
      "metadata": {
        "id": "BjGXF1Cw_UdW"
      }
    },
    {
      "cell_type": "code",
      "source": [
        "def _process(self, data):\n",
        "    None"
      ],
      "metadata": {
        "id": "eih-fht4_Tuf"
      },
      "execution_count": 10,
      "outputs": []
    },
    {
      "cell_type": "markdown",
      "source": [
        "We fill in the processing commands, in our case this means that we test if the input data item is divisible by our divisor, and return it if it is not divisible:"
      ],
      "metadata": {
        "id": "88H1_BqL_c9F"
      }
    },
    {
      "cell_type": "code",
      "source": [
        "def _process(self, data):\n",
        "    if not data % self.divisor:\n",
        "        return data"
      ],
      "metadata": {
        "id": "EtNv5q54_f-1"
      },
      "execution_count": 11,
      "outputs": []
    },
    {
      "cell_type": "markdown",
      "source": [
        "The data returned by _process is written to the output stream of the PE.\n",
        "\n",
        "That’s it! Our first PE is complete"
      ],
      "metadata": {
        "id": "W5YAKDzA_ihm"
      }
    },
    {
      "cell_type": "code",
      "source": [
        "from dispel4py.base import IterativePE\n",
        "\n",
        "class MyFirstPE(IterativePE):\n",
        "\n",
        "    def __init__(self, divisor):\n",
        "        IterativePE.__init__(self)\n",
        "        self.divisor = divisor\n",
        "    def _process(self, data):\n",
        "        #print(\"divisor is %s, data is %s\" %(self.divisor, data))\n",
        "        if not data % self.divisor == 0:\n",
        "            print(\"This: %s,  is not divisible by divisor the %s\" %(data,self.divisor))\n",
        "            return data\n"
      ],
      "metadata": {
        "id": "mfhIPbsU_me-"
      },
      "execution_count": 57,
      "outputs": []
    },
    {
      "cell_type": "markdown",
      "source": [
        "#### Summary of our first PE\n",
        "\n",
        "Here's a breakdown of what MyFirstPE does:\n",
        "\n",
        "* __init__(self, divisor): This is the initializer method that gets called when an instance of MyFirstPE is created. It initializes the parent IterativePE class and sets up a divisor attribute, which is used to determine if the incoming data should be processed or not.\n",
        "\n",
        "* _process(self, data): This method is called for each data item in the stream. The data item is passed to this method as the data argument.\n",
        "  * Inside _process, it checks if the data item is not divisible by the divisor attribute (if not data % self.divisor == 0:). If the condition is true (meaning the data item is not a multiple of the divisor), it prints the data and then returns it.\n",
        "\n",
        "The PE essentially filters and outputs data items that are not divisible by a specified number. Items that are divisible by this number are effectively ignored, and do not pass through this processing element.\n",
        "\n",
        "Note that the print statement is commented out, but if uncommented, it would print a message each time a non-divisible item is processed"
      ],
      "metadata": {
        "id": "gaBXy5aeHaeS"
      }
    },
    {
      "cell_type": "markdown",
      "source": [
        "### Create a simple workflow\n",
        "\n",
        "In this section we are going to create a workflow, using the PE that we implemented in the previous section. There’s a useful PE in the library of dispel4py PEs that just produces a sequence of numbers.\n",
        "\n",
        "We can connect this number producer to our PE which is initialised with the divisor 3 in this example:\n"
      ],
      "metadata": {
        "id": "uoQhH5XE_lOB"
      }
    },
    {
      "cell_type": "code",
      "source": [
        "from dispel4py.workflow_graph import WorkflowGraph\n",
        "from dispel4py.examples.graph_testing.testing_PEs import TestProducer\n",
        "\n",
        "producer = TestProducer()\n",
        "divide = MyFirstPE(3)\n",
        "\n",
        "graph = WorkflowGraph()\n",
        "graph.connect(producer, 'output', divide, 'input')"
      ],
      "metadata": {
        "id": "ABBqOSu-_unS"
      },
      "execution_count": 58,
      "outputs": []
    },
    {
      "cell_type": "markdown",
      "source": [
        "This workflow produces integers and tests whether they are divisible by 3. Any numbers that are not divisible by 3 will be written to the unconnected output stream of our first PE."
      ],
      "metadata": {
        "id": "W_Afi5Is_xtN"
      }
    },
    {
      "cell_type": "markdown",
      "source": [
        "### Execute the workflow\n",
        "\n",
        "To run this workflow you can use the sequential simple processor:\n"
      ],
      "metadata": {
        "id": "-bR7GhdF_2uC"
      }
    },
    {
      "cell_type": "code",
      "source": [
        "from dispel4py.new.simple_process import process as simple_process\n",
        "simple_process(graph, {producer: 20})\n"
      ],
      "metadata": {
        "colab": {
          "base_uri": "https://localhost:8080/"
        },
        "id": "BhcCZpU7_1xH",
        "outputId": "c4e82300-6f9e-4ee2-8c7a-8273e86d8afb"
      },
      "execution_count": 59,
      "outputs": [
        {
          "output_type": "stream",
          "name": "stdout",
          "text": [
            "Inputs: {'TestProducer14': 20}\n",
            "This: 1,  is not divisible by divisor the 3\n",
            "This: 2,  is not divisible by divisor the 3\n",
            "This: 4,  is not divisible by divisor the 3\n",
            "This: 5,  is not divisible by divisor the 3\n",
            "This: 7,  is not divisible by divisor the 3\n",
            "This: 8,  is not divisible by divisor the 3\n",
            "This: 10,  is not divisible by divisor the 3\n",
            "This: 11,  is not divisible by divisor the 3\n",
            "This: 13,  is not divisible by divisor the 3\n",
            "This: 14,  is not divisible by divisor the 3\n",
            "This: 16,  is not divisible by divisor the 3\n",
            "This: 17,  is not divisible by divisor the 3\n",
            "This: 19,  is not divisible by divisor the 3\n",
            "This: 20,  is not divisible by divisor the 3\n",
            "SimplePE: Processed 1 iteration.\n",
            "Outputs: {'MyFirstPE15': {'output': [1, 2, 4, 5, 7, 8, 10, 11, 13, 14, 16, 17, 19, 20]}}\n"
          ]
        }
      ]
    },
    {
      "cell_type": "markdown",
      "source": [
        "### Write a data producer PE\n",
        "\n",
        "#### Producing the input\n",
        "\n",
        "Next we will create a ProducerPE that creates the input for our first PE. The test producer that we were using above only produces one number per iteration. In our case we would like to create a PE that produces all the numbers from 2 up to a certain limit.\n",
        "\n",
        "The implementation looks like this:\n",
        "i"
      ],
      "metadata": {
        "id": "drUvFRAsAn9U"
      }
    },
    {
      "cell_type": "code",
      "source": [
        "from dispel4py.base import ProducerPE\n",
        "\n",
        "class NumberProducer(ProducerPE):\n",
        "    def __init__(self, start, limit):\n",
        "        ProducerPE.__init__(self)\n",
        "        self.start = start\n",
        "        self.limit = limit\n",
        "    def _process(self, inputs):\n",
        "        for i in range(self.start, self.limit):\n",
        "            #print(\"I have produced the data %s\" %i)\n",
        "            self.write('output', i)\n",
        "            # OR: self.write(\"ProducerPE.OUTPUT_NAME\", i)"
      ],
      "metadata": {
        "id": "kRM7E_ARAwQV"
      },
      "execution_count": 60,
      "outputs": []
    },
    {
      "cell_type": "markdown",
      "source": [
        "This introduces several new concepts. The ProducerPE is a base class which has no inputs and one output ProducerPE.OUTPUT_NAME or \"output\". We initialise an instance of the NumberProducer PE with the lower and upper bounds for the integers that we want to produce.\n",
        "\n",
        "In the implementation of the _process() method we iterate over the range of numbers from the lower bound up to (and excluding) the upper bound. Since the processing method generates more than one data item we have to write them one at a time to the output data stream using the write() method."
      ],
      "metadata": {
        "id": "W4jqSqwNA0-Z"
      }
    },
    {
      "cell_type": "markdown",
      "source": [
        "### Using the producer in the workflow\n",
        "\n",
        "Now we hook our own producer into the workflow, replacing the TestProducer from the dispel4py library:"
      ],
      "metadata": {
        "id": "7WE0zokUA7kh"
      }
    },
    {
      "cell_type": "code",
      "source": [
        "from dispel4py.workflow_graph import WorkflowGraph\n",
        "\n",
        "producer = NumberProducer(2, 100)\n",
        "divide = MyFirstPE(3)\n",
        "graph = WorkflowGraph()\n",
        "graph.connect(producer, 'output', divide, 'input')"
      ],
      "metadata": {
        "id": "sd9VIbXrAz4W"
      },
      "execution_count": 61,
      "outputs": []
    },
    {
      "cell_type": "markdown",
      "source": [
        "\n",
        "\n",
        "Everything else stays the same. We create an instance of the NumberProducer that outputs the range of numbers from 2 to 99 (excluding the upper bound of 100).\n",
        "\n",
        "Now execute the new workflow using the simple mapping:\n"
      ],
      "metadata": {
        "id": "4VfHurwABDmE"
      }
    },
    {
      "cell_type": "code",
      "source": [
        "simple_process(graph, {producer: 1})\n"
      ],
      "metadata": {
        "colab": {
          "base_uri": "https://localhost:8080/"
        },
        "id": "BPMYVKcpBCdK",
        "outputId": "1065a496-3641-4368-9d3a-34f3f305c2d7"
      },
      "execution_count": 62,
      "outputs": [
        {
          "output_type": "stream",
          "name": "stdout",
          "text": [
            "Inputs: {'NumberProducer16': 1}\n",
            "This: 2,  is not divisible by divisor the 3\n",
            "This: 4,  is not divisible by divisor the 3\n",
            "This: 5,  is not divisible by divisor the 3\n",
            "This: 7,  is not divisible by divisor the 3\n",
            "This: 8,  is not divisible by divisor the 3\n",
            "This: 10,  is not divisible by divisor the 3\n",
            "This: 11,  is not divisible by divisor the 3\n",
            "This: 13,  is not divisible by divisor the 3\n",
            "This: 14,  is not divisible by divisor the 3\n",
            "This: 16,  is not divisible by divisor the 3\n",
            "This: 17,  is not divisible by divisor the 3\n",
            "This: 19,  is not divisible by divisor the 3\n",
            "This: 20,  is not divisible by divisor the 3\n",
            "This: 22,  is not divisible by divisor the 3\n",
            "This: 23,  is not divisible by divisor the 3\n",
            "This: 25,  is not divisible by divisor the 3\n",
            "This: 26,  is not divisible by divisor the 3\n",
            "This: 28,  is not divisible by divisor the 3\n",
            "This: 29,  is not divisible by divisor the 3\n",
            "This: 31,  is not divisible by divisor the 3\n",
            "This: 32,  is not divisible by divisor the 3\n",
            "This: 34,  is not divisible by divisor the 3\n",
            "This: 35,  is not divisible by divisor the 3\n",
            "This: 37,  is not divisible by divisor the 3\n",
            "This: 38,  is not divisible by divisor the 3\n",
            "This: 40,  is not divisible by divisor the 3\n",
            "This: 41,  is not divisible by divisor the 3\n",
            "This: 43,  is not divisible by divisor the 3\n",
            "This: 44,  is not divisible by divisor the 3\n",
            "This: 46,  is not divisible by divisor the 3\n",
            "This: 47,  is not divisible by divisor the 3\n",
            "This: 49,  is not divisible by divisor the 3\n",
            "This: 50,  is not divisible by divisor the 3\n",
            "This: 52,  is not divisible by divisor the 3\n",
            "This: 53,  is not divisible by divisor the 3\n",
            "This: 55,  is not divisible by divisor the 3\n",
            "This: 56,  is not divisible by divisor the 3\n",
            "This: 58,  is not divisible by divisor the 3\n",
            "This: 59,  is not divisible by divisor the 3\n",
            "This: 61,  is not divisible by divisor the 3\n",
            "This: 62,  is not divisible by divisor the 3\n",
            "This: 64,  is not divisible by divisor the 3\n",
            "This: 65,  is not divisible by divisor the 3\n",
            "This: 67,  is not divisible by divisor the 3\n",
            "This: 68,  is not divisible by divisor the 3\n",
            "This: 70,  is not divisible by divisor the 3\n",
            "This: 71,  is not divisible by divisor the 3\n",
            "This: 73,  is not divisible by divisor the 3\n",
            "This: 74,  is not divisible by divisor the 3\n",
            "This: 76,  is not divisible by divisor the 3\n",
            "This: 77,  is not divisible by divisor the 3\n",
            "This: 79,  is not divisible by divisor the 3\n",
            "This: 80,  is not divisible by divisor the 3\n",
            "This: 82,  is not divisible by divisor the 3\n",
            "This: 83,  is not divisible by divisor the 3\n",
            "This: 85,  is not divisible by divisor the 3\n",
            "This: 86,  is not divisible by divisor the 3\n",
            "This: 88,  is not divisible by divisor the 3\n",
            "This: 89,  is not divisible by divisor the 3\n",
            "This: 91,  is not divisible by divisor the 3\n",
            "This: 92,  is not divisible by divisor the 3\n",
            "This: 94,  is not divisible by divisor the 3\n",
            "This: 95,  is not divisible by divisor the 3\n",
            "This: 97,  is not divisible by divisor the 3\n",
            "This: 98,  is not divisible by divisor the 3\n",
            "SimplePE: Processed 1 iteration.\n",
            "Outputs: {'MyFirstPE17': {'output': [2, 4, 5, 7, 8, 10, 11, 13, 14, 16, 17, 19, 20, 22, 23, 25, 26, 28, 29, 31, 32, 34, 35, 37, 38, 40, 41, 43, 44, 46, 47, 49, 50, 52, 53, 55, 56, 58, 59, 61, 62, 64, 65, 67, 68, 70, 71, 73, 74, 76, 77, 79, 80, 82, 83, 85, 86, 88, 89, 91, 92, 94, 95, 97, 98]}}\n"
          ]
        }
      ]
    },
    {
      "cell_type": "markdown",
      "source": [
        "### Using the comand line\n",
        "\n",
        "You should save the PEs (NumberProducer, MyFristPE) and the graph as myfirstgraph.py file. Once saved, you could run it using the sequential simple processor.\n",
        "\n",
        "For this we are going to use the `write_cell_above_to file` function.\n",
        "\n",
        "Remember, that each time we use this function is going to copy the cell above into the desired file (e.g. `/tmp/myfirstgraph`), and it needs a unique identifier each time (e.g. `id:example1`).\n"
      ],
      "metadata": {
        "id": "kkRgvIneDTs8"
      }
    },
    {
      "cell_type": "markdown",
      "source": [
        "```\n",
        "from dispel4py.base import ProducerPE\n",
        "from dispel4py.base import IterativePE\n",
        "from dispel4py.workflow_graph import WorkflowGraph\n",
        "\n",
        "\n",
        "class NumberProducer(ProducerPE):\n",
        "    def __init__(self, start, limit):\n",
        "        ProducerPE.__init__(self)\n",
        "        self.start = start\n",
        "        self.limit = limit\n",
        "    def _process(self, inputs):\n",
        "        for i in range(self.start, self.limit):\n",
        "            self.write('output', i)\n",
        "\n",
        "class MyFirstPE(IterativePE):\n",
        "\n",
        "    def __init__(self, divisor):\n",
        "        IterativePE.__init__(self)\n",
        "        self.divisor = divisor\n",
        "    def _process(self, data):\n",
        "        #print(\"divisor is %s, data is %s\" %(self.divisor, data))\n",
        "        if not data % self.divisor == 0:\n",
        "            #print(\"This: %s,  is not divisible by divisor the %s\" %(data,self.divisor))\n",
        "            return data\n",
        "\n",
        "producer = NumberProducer(2, 100)\n",
        "divide = MyFirstPE(3)\n",
        "\n",
        "graph = WorkflowGraph()\n",
        "graph.connect(producer, 'output', divide, 'input')\n",
        "```"
      ],
      "metadata": {
        "id": "atRpV6HAEpwt"
      }
    },
    {
      "cell_type": "code",
      "source": [
        "#@markdown <font size='4'>Run the cell above</font>\n",
        "search_term = 'id:example1'\n",
        "write_cell_above_to_file(search_term, '/tmp/myfirstgraph.py')"
      ],
      "metadata": {
        "id": "TMqiVrljFNJi"
      },
      "execution_count": 70,
      "outputs": []
    },
    {
      "cell_type": "code",
      "source": [
        "!dispel4py simple /tmp/myfirstgraph.py"
      ],
      "metadata": {
        "colab": {
          "base_uri": "https://localhost:8080/"
        },
        "id": "tZa-D8FwFZBt",
        "outputId": "484b4fa6-7a4d-48f2-a13a-d1ef18edb4bd"
      },
      "execution_count": 71,
      "outputs": [
        {
          "output_type": "stream",
          "name": "stdout",
          "text": [
            "Processing 1 iteration.\n",
            "RUN ARGS: \n",
            "Namespace(target='simple', module='/tmp/myfirstgraph.py', attr=None, file=None, data=None, iter=1, provenance=None)\n",
            "==========\n",
            "Inputs: {'NumberProducer0': 1}\n",
            "SimplePE: Processed 1 iteration.\n",
            "Outputs: {'MyFirstPE1': {'output': [2, 4, 5, 7, 8, 10, 11, 13, 14, 16, 17, 19, 20, 22, 23, 25, 26, 28, 29, 31, 32, 34, 35, 37, 38, 40, 41, 43, 44, 46, 47, 49, 50, 52, 53, 55, 56, 58, 59, 61, 62, 64, 65, 67, 68, 70, 71, 73, 74, 76, 77, 79, 80, 82, 83, 85, 86, 88, 89, 91, 92, 94, 95, 97, 98]}}\n",
            "ELAPSED TIME: 0.0007472038269042969\n"
          ]
        }
      ]
    },
    {
      "cell_type": "markdown",
      "source": [
        "### Parallel processing\n",
        "\n",
        "For this very simple case we can easily parallelise the execution of the workflow. To do this we use the dispel4py multi mapping that executes a workflow in multiple processes using the Python multiprocessing [1](https://docs.python.org/2/library/multiprocessing.html) library. Lets run it with 4 processes"
      ],
      "metadata": {
        "id": "WeYEkonhJEXU"
      }
    },
    {
      "cell_type": "code",
      "source": [
        "!dispel4py multi /tmp/myfirstgraph.py -n 4"
      ],
      "metadata": {
        "colab": {
          "base_uri": "https://localhost:8080/"
        },
        "id": "oZ1OkrpOFmNL",
        "outputId": "a744258d-b30b-4635-ee4b-078238dc14c1"
      },
      "execution_count": 72,
      "outputs": [
        {
          "output_type": "stream",
          "name": "stdout",
          "text": [
            "Processing 1 iteration.\n",
            "RUN ARGS: \n",
            "Namespace(target='multi', module='/tmp/myfirstgraph.py', attr=None, file=None, data=None, iter=1, provenance=None, simple=False, num=4)\n",
            "==========\n",
            "Processes: {'NumberProducer0': range(0, 1), 'MyFirstPE1': range(1, 4)}\n",
            "NumberProducer0 (rank 0): Processed 1 iteration.\n",
            "MyFirstPE1 (rank 1): Processed 33 iterations.\n",
            "MyFirstPE1 (rank 2): Processed 33 iterations.\n",
            "MyFirstPE1 (rank 3): Processed 32 iterations.\n",
            "ELAPSED TIME: 0.03844475746154785\n"
          ]
        }
      ]
    },
    {
      "cell_type": "markdown",
      "source": [
        "In this case, MyFirstPE is assigned to processes 1, 2 and 3, so there three parallel instances. These instances each process about a third of the data, as you can see from the output of the instances when processing is complete:\n",
        "\n",
        "```\n",
        "MyFirstPE3 (rank 1): Processed 33 iterations.\n",
        "MyFirstPE3 (rank 2): Processed 33 iterations.\n",
        "MyFirstPE3 (rank 3): Processed 32 iterations.\n",
        "````\n",
        "\n",
        "Note that when executing in a parallel environment the output from each PE is not collected as in the simple mapping. You are responsible for collecting this output and printing or storing it."
      ],
      "metadata": {
        "id": "Wj73WJ5GJidX"
      }
    },
    {
      "cell_type": "markdown",
      "source": [
        "## Even humans are odd!\n",
        "\n",
        "In this exercise we are going to create a dispel4py workflow that produces random numbers and it pairs them by (\"one odd\",\"one even\") pattern. As we introduced before, we have different types of PEs: Generic, Iterative, Producer, Consumerk, SimpleFunction, ... In this exercise we are going to get familiar with the following ones: GenericPE, IterativePE and ProducerPE.\n",
        "\n",
        "The first step is to create a PE class that produces a random integer number at the time in a range 1 to 1000, as we did in the \"prime\" workflow.\n",
        "\n",
        "Because this PE is our first one in this workflow and it has not any input streams, the most sensible choice is to use a ProducerPE type. However, we could also use a GenericPE type as well. Feel free to modify this ipython notebook to change it as you like.\n",
        "\n",
        "One quick comment about how to write data to the output streams. There are two options:\n",
        "\n",
        "* return: it only provides one value. Then the process method is finished.\n",
        "* self.write: it can produce one or more value(s) during processing. Then it can continue to process (e.g. providing one/several value(s) in a loop).\n",
        "\n",
        "For this PE we could use both formats, as you can see in the following code. You could comment the one that you like less.\n"
      ],
      "metadata": {
        "id": "EOO-A2D_Jwtk"
      }
    },
    {
      "cell_type": "code",
      "source": [
        "from dispel4py.base import ProducerPE\n",
        "import random\n",
        "\n",
        "class NumberProducer(ProducerPE):\n",
        "    def __init__(self):\n",
        "        ProducerPE.__init__(self)\n",
        "\n",
        "    def _process(self , inputs):\n",
        "        result= random.randint(1, 1000)\n",
        "        return result\n",
        "        #OR: self.write('output', result)"
      ],
      "metadata": {
        "id": "9icDAvjKJt7d"
      },
      "execution_count": 73,
      "outputs": []
    },
    {
      "cell_type": "markdown",
      "source": [
        "After building the \"NumberProducer\" PE class, its output stream will be sent to another PE class (Divideby2) to determine if the number that has just been produced is even or odd. One way to perform this task is by dividing the the number by 2 and checking the reminder. If the reminder is equal 0, the number is even. Otherwise the number is odd. We are going to use a parameter (called \"compare\") for comparing the reminder with 0 and 1, and therefore reuse the same PE class for getting the answer (odd or even).\n",
        "\n",
        "Because this PE class needs only 1 input and produces 0 or 1 output, we are going to create it by using a IterativePE type."
      ],
      "metadata": {
        "id": "t_AefmEtKK19"
      }
    },
    {
      "cell_type": "code",
      "source": [
        "from dispel4py.base import IterativePE\n",
        "\n",
        "class Divideby2(IterativePE):\n",
        "\n",
        "    def __init__(self, compare):\n",
        "        IterativePE.__init__(self)\n",
        "        self.compare = compare\n",
        "\n",
        "    def _process(self, data):\n",
        "        if data % 2 == self.compare:\n",
        "            return data"
      ],
      "metadata": {
        "id": "S-orGyjvKQm-"
      },
      "execution_count": 74,
      "outputs": []
    },
    {
      "cell_type": "markdown",
      "source": [
        "\n",
        "Finally, the last PE in this workflow is going to receive two inputs streams. This PE will require two lists for grouping even and odd numbers. Therefore, GenericPE type is going to be the choice for creating this PE class. This type of PE requires to add the input (\"odd\" and \"even\") and output (\"output\") streams in the __init__ method. Because we need to store the data between different iterations, we create member variables in the __init__ method.\n",
        "\n",
        "During the _process method of this PE, the numbers received through its inputs will be appended to one list or another.\n",
        "\n",
        "As you can imagine, those lists can be imbalanced and one could have more elements than the other (because the producer PE has randomly generated more odd numbers than even, or the other way around). Therefore, in order to check if there are the numbers that have not been paired up (or \"left over\"), we can use the _postprocess method for printing out which data has not be paired before. The _postprocess method is launched only once per PE after all processing has completed.\n"
      ],
      "metadata": {
        "id": "ODsdviRKKPn9"
      }
    },
    {
      "cell_type": "code",
      "source": [
        "from dispel4py.core import GenericPE\n",
        "\n",
        "class PairProducer(GenericPE):\n",
        "\n",
        "    def __init__(self):\n",
        "        GenericPE.__init__(self)\n",
        "        self._add_input(\"odd\")\n",
        "        self._add_input(\"even\")\n",
        "        self._add_output(\"output\")\n",
        "        self.list_odd=[]\n",
        "        self.list_even=[]\n",
        "\n",
        "    def _process(self, inputs):\n",
        "        if \"odd\" in inputs:\n",
        "            self.list_odd.append(inputs[\"odd\"])\n",
        "        if \"even\" in inputs:\n",
        "            self.list_even.append(inputs[\"even\"])\n",
        "\n",
        "        while self.list_odd and self.list_even:\n",
        "            self.write(\"output\", (self.list_odd.pop(0), self.list_even.pop(0)))\n",
        "\n",
        "    def _postprocess(self):\n",
        "        self.log('We are left behind: odd: %s, even: %s' % (self.list_odd, self.list_even))\n",
        "        self.list_odd = []\n",
        "        self.list_even = []"
      ],
      "metadata": {
        "id": "9vQX97suKXQv"
      },
      "execution_count": 75,
      "outputs": []
    },
    {
      "cell_type": "markdown",
      "source": [
        "Now we only have to create the graph and connect the different PEs. Note that we create two PEs (filter_even and filter_odd) of the same type (Divideby2) to decide whether a number is odd or even. The output stream from the producer is connected to both filter PEs meaning that they both receive a copy of the same stream."
      ],
      "metadata": {
        "id": "7HFkEu33KcAp"
      }
    },
    {
      "cell_type": "code",
      "source": [
        "from dispel4py.workflow_graph import WorkflowGraph\n",
        "\n",
        "producer = NumberProducer()\n",
        "filter_even = Divideby2(0)\n",
        "filter_odd = Divideby2(1)\n",
        "pair = PairProducer()\n",
        "\n",
        "graph = WorkflowGraph()\n",
        "graph.connect(producer, 'output', filter_even, 'input')\n",
        "graph.connect(producer, 'output', filter_odd, 'input')\n",
        "graph.connect(filter_even, 'output', pair, 'even')\n",
        "graph.connect(filter_odd, 'output', pair, 'odd')\n"
      ],
      "metadata": {
        "id": "OZzCOtq3Kasl"
      },
      "execution_count": 76,
      "outputs": []
    },
    {
      "cell_type": "markdown",
      "source": [
        "Finally, let's run this workflow with the sequential simple processor as we did before."
      ],
      "metadata": {
        "id": "nWL20xDtKjkP"
      }
    },
    {
      "cell_type": "code",
      "source": [
        "from dispel4py.new.simple_process import process as simple_process\n",
        "simple_process(graph, {producer: 20})"
      ],
      "metadata": {
        "colab": {
          "base_uri": "https://localhost:8080/"
        },
        "id": "JaLm_SI_Km-u",
        "outputId": "cae19e4f-c88c-4ede-884e-6e9d1498e29e"
      },
      "execution_count": 77,
      "outputs": [
        {
          "output_type": "stream",
          "name": "stdout",
          "text": [
            "Inputs: {'NumberProducer18': 20}\n",
            "PairProducer21: We are left behind: odd: [], even: []\n",
            "SimplePE: Processed 1 iteration.\n",
            "Outputs: {'PairProducer21': {'output': [(261, 252), (567, 116), (473, 110), (965, 290), (987, 258), (397, 876), (79, 8), (531, 868), (125, 992), (367, 546)]}}\n"
          ]
        }
      ]
    },
    {
      "cell_type": "markdown",
      "source": [
        "### Using Command line\n",
        "\n",
        "Once again we ned to copy the workflow and the PEs into a file. For doing this are going to use the `write_cell_above_to file` function.\n",
        "\n",
        "Remember, that each time we use this function is going to copy the cell above into the desired file (e.g. `/tmp/evenodd.py`), and it needs a unique identifier each time (e.g. `id:example2`).\n"
      ],
      "metadata": {
        "id": "HFDB3l4xLAa2"
      }
    },
    {
      "cell_type": "markdown",
      "source": [
        "```\n",
        "from dispel4py.base import ProducerPE, IterativePE\n",
        "from dispel4py.core import GenericPE\n",
        "from dispel4py.workflow_graph import WorkflowGraph\n",
        "from dispel4py.core import GenericPE\n",
        "import random\n",
        "\n",
        "class NumberProducer(ProducerPE):\n",
        "    def __init__(self):\n",
        "        ProducerPE.__init__(self)\n",
        "        \n",
        "    def _process(self, inputs):\n",
        "        result= random.randint(1, 1000)\n",
        "        return result\n",
        "        #OR: self.write('output', result)\n",
        "\n",
        "class Divideby2(IterativePE):\n",
        "    def __init__(self, compare):\n",
        "        IterativePE.__init__(self)\n",
        "        self.compare = compare\n",
        "    def _process(self, data):\n",
        "        if data % 2 == self.compare:\n",
        "            return data\n",
        "          \n",
        "class PairProducer(GenericPE):\n",
        "    def __init__(self):\n",
        "        GenericPE.__init__(self)\n",
        "        self._add_input(\"odd\")\n",
        "        self._add_input(\"even\")\n",
        "        self._add_output(\"output\")\n",
        "        self.list_odd=[]\n",
        "        self.list_even=[]\n",
        "      \n",
        "    def _process(self, inputs):\n",
        "        if \"odd\" in inputs:\n",
        "            self.list_odd.append(inputs[\"odd\"])\n",
        "        if \"even\" in inputs:\n",
        "            self.list_even.append(inputs[\"even\"])\n",
        "       \n",
        "        while self.list_odd and self.list_even:\n",
        "            self.write(\"output\", (self.list_odd.pop(0), self.list_even.pop(0)))\n",
        "    \n",
        "    def _postprocess(self):\n",
        "        self.log('We are left behind: odd: %s, even: %s' % (self.list_odd, self.list_even))\n",
        "        self.list_odd = []\n",
        "        self.list_even = []\n",
        "\n",
        "producer = NumberProducer()\n",
        "filter_even = Divideby2(0)\n",
        "filter_odd = Divideby2(1)\n",
        "pair = PairProducer()\n",
        "\n",
        "graph = WorkflowGraph()\n",
        "graph.connect(producer, 'output', filter_even, 'input')\n",
        "graph.connect(producer, 'output', filter_odd, 'input')\n",
        "graph.connect(filter_even, 'output', pair, 'even')\n",
        "graph.connect(filter_odd, 'output', pair, 'odd')\n",
        "```"
      ],
      "metadata": {
        "id": "fXIh-DaGLHnh"
      }
    },
    {
      "cell_type": "code",
      "source": [
        "#@markdown <font size='4'>Run the cell above</font>\n",
        "search_term = 'id:example2'\n",
        "write_cell_above_to_file(search_term, '/tmp/evenodd.py')"
      ],
      "metadata": {
        "id": "DKYCPv86LhF-"
      },
      "execution_count": 84,
      "outputs": []
    },
    {
      "cell_type": "code",
      "source": [
        "!dispel4py simple /tmp/evenodd.py -i 20"
      ],
      "metadata": {
        "colab": {
          "base_uri": "https://localhost:8080/"
        },
        "id": "3McZlnCFLpRa",
        "outputId": "0e132a3e-4dd7-4457-c538-4e178100e44e"
      },
      "execution_count": 86,
      "outputs": [
        {
          "output_type": "stream",
          "name": "stdout",
          "text": [
            "Processing 20 iterations.\n",
            "RUN ARGS: \n",
            "Namespace(target='simple', module='/tmp/evenodd.py', attr=None, file=None, data=None, iter=20, provenance=None)\n",
            "==========\n",
            "Inputs: {'NumberProducer0': 20}\n",
            "PairProducer3: We are left behind: odd: [], even: []\n",
            "SimplePE: Processed 1 iteration.\n",
            "Outputs: {'PairProducer3': {'output': [(755, 144), (297, 472), (669, 954), (39, 266), (145, 238), (339, 110), (483, 428), (963, 386), (189, 404), (197, 712)]}}\n",
            "ELAPSED TIME: 0.0007483959197998047\n"
          ]
        }
      ]
    },
    {
      "cell_type": "code",
      "source": [
        "!dispel4py multi /tmp/evenodd.py -i 100 -n 4"
      ],
      "metadata": {
        "colab": {
          "base_uri": "https://localhost:8080/"
        },
        "id": "UWMRqSgGNPmG",
        "outputId": "e63e0831-71a1-435f-a110-c6df84d64ec1"
      },
      "execution_count": 87,
      "outputs": [
        {
          "output_type": "stream",
          "name": "stdout",
          "text": [
            "Processing 100 iterations.\n",
            "RUN ARGS: \n",
            "Namespace(target='multi', module='/tmp/evenodd.py', attr=None, file=None, data=None, iter=100, provenance=None, simple=False, num=4)\n",
            "==========\n",
            "Processes: {'NumberProducer0': range(0, 1), 'Divideby21': range(1, 2), 'Divideby22': range(2, 3), 'PairProducer3': range(3, 4)}\n",
            "NumberProducer0 (rank 0): Processed 100 iterations.\n",
            "Divideby21 (rank 1): Processed 100 iterations.\n",
            "Divideby22 (rank 2): Processed 100 iterations.\n",
            "PairProducer3 (rank 3): We are left behind: odd: [], even: [250, 36, 132, 756, 240, 770, 770, 840]\n",
            "PairProducer3 (rank 3): Processed 100 iterations.\n",
            "ELAPSED TIME: 0.030350923538208008\n"
          ]
        }
      ]
    }
  ]
}