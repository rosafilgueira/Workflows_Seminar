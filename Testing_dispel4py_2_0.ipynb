{
  "nbformat": 4,
  "nbformat_minor": 0,
  "metadata": {
    "colab": {
      "provenance": [],
      "authorship_tag": "ABX9TyNZYzCC9nCVQbe3Vbsv6fld",
      "include_colab_link": true
    },
    "kernelspec": {
      "name": "python3",
      "display_name": "Python 3"
    },
    "language_info": {
      "name": "python"
    }
  },
  "cells": [
    {
      "cell_type": "markdown",
      "metadata": {
        "id": "view-in-github",
        "colab_type": "text"
      },
      "source": [
        "<a href=\"https://colab.research.google.com/github/rosafilgueira/Workflows_Seminar/blob/main/Testing_dispel4py_2_0.ipynb\" target=\"_parent\"><img src=\"https://colab.research.google.com/assets/colab-badge.svg\" alt=\"Open In Colab\"/></a>"
      ]
    },
    {
      "cell_type": "markdown",
      "source": [
        "## Installing Conda\n"
      ],
      "metadata": {
        "id": "bzCo-unt_IcV"
      }
    },
    {
      "cell_type": "code",
      "execution_count": null,
      "metadata": {
        "id": "Q0zwo31C8cWA"
      },
      "outputs": [],
      "source": [
        "!pip install -q condacolab\n",
        "import condacolab\n",
        "condacolab.install()"
      ]
    },
    {
      "cell_type": "code",
      "source": [
        "!conda --version\n",
        "!conda create --name d4py_env python=3.10\n",
        "!conda activate d4py_env\n"
      ],
      "metadata": {
        "id": "-B346fcK89AB"
      },
      "execution_count": null,
      "outputs": []
    },
    {
      "cell_type": "markdown",
      "source": [
        "## Installing dispel4py"
      ],
      "metadata": {
        "id": "uZ_1ANt1_dxL"
      }
    },
    {
      "cell_type": "code",
      "source": [
        "\n",
        "#Version 1:\n",
        "!pip install mpi4py\n",
        "!pip install stream-d4py\n",
        "\n",
        "# Version 2:\n",
        "#!git clone https://github.com/StreamingFlow/d4py.git\n",
        "#%cd d4py\n",
        "#!pip install mpi4py\n",
        "#!python setup.py install"
      ],
      "metadata": {
        "id": "9qUHZKAJ9L-z"
      },
      "execution_count": null,
      "outputs": []
    },
    {
      "cell_type": "markdown",
      "source": [
        "## Testing dispel4py"
      ],
      "metadata": {
        "id": "o5YMR3-N_jRQ"
      }
    },
    {
      "cell_type": "code",
      "source": [
        "## Simple mapping\n",
        "!dispel4py simple dispel4py.examples.graph_testing.word_count -i 10"
      ],
      "metadata": {
        "colab": {
          "base_uri": "https://localhost:8080/"
        },
        "id": "uT3SQpxb_nVq",
        "outputId": "e58ddad8-281b-4278-e4ec-954dc15f82bf"
      },
      "execution_count": null,
      "outputs": [
        {
          "output_type": "stream",
          "name": "stdout",
          "text": [
            "Processing 10 iterations.\n",
            "RUN ARGS: \n",
            "Namespace(target='simple', module='dispel4py.examples.graph_testing.word_count', attr=None, file=None, data=None, iter=10, provenance=None)\n",
            "==========\n",
            "Inputs: {'RandomWordProducer0': 10}\n",
            "SimplePE: Processed 1 iteration.\n",
            "Outputs: {'WordCounter1': {'output': [['Seismology', 1], ['Infrastructure', 1], ['Seismology', 2], ['Computing', 1], ['Modelling', 1], ['Seismology', 3], ['Analysis', 1], ['Computing', 2], ['Earthquake', 1], ['Analysis', 2]]}}\n",
            "ELAPSED TIME: 0.0008814334869384766\n"
          ]
        }
      ]
    },
    {
      "cell_type": "code",
      "source": [
        "## Multi mapping\n",
        "!dispel4py multi dispel4py.examples.graph_testing.word_count -i 10 -n 4"
      ],
      "metadata": {
        "colab": {
          "base_uri": "https://localhost:8080/"
        },
        "id": "9MKCGez9_1fe",
        "outputId": "9b0fa215-02b1-4ade-fa6b-92a50ad7c6b6"
      },
      "execution_count": null,
      "outputs": [
        {
          "output_type": "stream",
          "name": "stdout",
          "text": [
            "Processing 10 iterations.\n",
            "RUN ARGS: \n",
            "Namespace(target='multi', module='dispel4py.examples.graph_testing.word_count', attr=None, file=None, data=None, iter=10, provenance=None, simple=False, num=4)\n",
            "==========\n",
            "Processes: {'RandomWordProducer0': range(0, 1), 'WordCounter1': range(1, 4)}\n",
            "RandomWordProducer0 (rank 0): Processed 10 iterations.\n",
            "WordCounter1 (rank 2): Processed 1 iteration.\n",
            "WordCounter1 (rank 1): Processed 1 iteration.\n",
            "WordCounter1 (rank 3): Processed 8 iterations.\n",
            "ELAPSED TIME: 0.025078535079956055\n"
          ]
        }
      ]
    },
    {
      "cell_type": "markdown",
      "source": [
        "### MPI"
      ],
      "metadata": {
        "id": "y_R08IyHScQF"
      }
    },
    {
      "cell_type": "code",
      "source": [
        "!mpiexec -n 4 --allow-run-as-root --oversubscribe  dispel4py mpi dispel4py.examples.graph_testing.word_count -n 4"
      ],
      "metadata": {
        "colab": {
          "base_uri": "https://localhost:8080/"
        },
        "id": "BTyAh_E8AaA5",
        "outputId": "016605b8-1324-4270-d6ba-6c613139b35f"
      },
      "execution_count": null,
      "outputs": [
        {
          "output_type": "stream",
          "name": "stdout",
          "text": [
            "Processing 1 iteration.\n",
            "Processing 1 iteration.\n",
            "Processing 1 iteration.\n",
            "Processing 1 iteration.\n",
            "RUN ARGS: \n",
            "RUN ARGS: \n",
            "RUN ARGS: \n",
            "RUN ARGS: \n",
            "Namespace(target='mpi', module='dispel4py.examples.graph_testing.word_count', attr=None, file=None, data=None, iter=1, provenance=None, simple=False, num_processes=4)\n",
            "Namespace(target='mpi', module='dispel4py.examples.graph_testing.word_count', attr=None, file=None, data=None, iter=1, provenance=None, simple=False, num_processes=4)\n",
            "==========\n",
            "Namespace(target='mpi', module='dispel4py.examples.graph_testing.word_count', attr=None, file=None, data=None, iter=1, provenance=None, simple=False, num_processes=4)\n",
            "==========\n",
            "==========\n",
            "Namespace(target='mpi', module='dispel4py.examples.graph_testing.word_count', attr=None, file=None, data=None, iter=1, provenance=None, simple=False, num_processes=4)\n",
            "==========\n",
            "Processes: {'RandomWordProducer0': range(0, 1), 'WordCounter1': range(1, 4)}\n",
            "RandomWordProducer0 (rank 0): Processed 1 iteration.\n",
            "WordCounter1 (rank 3): Processed 1 iteration.\n",
            "WordCounter1 (rank 1): Processed 0 iterations.\n",
            "ELAPSED TIME: 0.003873109817504883\n",
            "ELAPSED TIME: 0.005576372146606445\n",
            "ELAPSED TIME: 0.007616281509399414\n",
            "WordCounter1 (rank 2): Processed 0 iterations.\n",
            "ELAPSED TIME: 0.013526201248168945\n"
          ]
        }
      ]
    },
    {
      "cell_type": "code",
      "source": [
        "!mpiexec -n 10 --allow-run-as-root --oversubscribe  dispel4py mpi dispel4py.examples.graph_testing.pipeline_test -i 20 -n 10"
      ],
      "metadata": {
        "colab": {
          "base_uri": "https://localhost:8080/"
        },
        "id": "BhUl6nn7SzFc",
        "outputId": "fbc7c14d-6158-4ea4-ad8c-ed6e907f5cda"
      },
      "execution_count": null,
      "outputs": [
        {
          "output_type": "stream",
          "name": "stdout",
          "text": [
            "Processing 20 iterations.\n",
            "Processing 20 iterations.\n",
            "Processing 20 iterations.\n",
            "Processing 20 iterations.\n",
            "Processing 20 iterations.\n",
            "Processing 20 iterations.\n",
            "Processing 20 iterations.\n",
            "Processing 20 iterations.\n",
            "Processing 20 iterations.\n",
            "Processing 20 iterations.\n",
            "RUN ARGS: \n",
            "RUN ARGS: \n",
            "Namespace(target='mpi', module='dispel4py.examples.graph_testing.pipeline_test', attr=None, file=None, data=None, iter=20, provenance=None, simple=False, num_processes=10)\n",
            "==========\n",
            "RUN ARGS: \n",
            "Namespace(target='mpi', module='dispel4py.examples.graph_testing.pipeline_test', attr=None, file=None, data=None, iter=20, provenance=None, simple=False, num_processes=10)\n",
            "==========\n",
            "Namespace(target='mpi', module='dispel4py.examples.graph_testing.pipeline_test', attr=None, file=None, data=None, iter=20, provenance=None, simple=False, num_processes=10)\n",
            "==========\n",
            "RUN ARGS: \n",
            "Namespace(target='mpi', module='dispel4py.examples.graph_testing.pipeline_test', attr=None, file=None, data=None, iter=20, provenance=None, simple=False, num_processes=10)\n",
            "==========\n",
            "RUN ARGS: \n",
            "RUN ARGS: \n",
            "Namespace(target='mpi', module='dispel4py.examples.graph_testing.pipeline_test', attr=None, file=None, data=None, iter=20, provenance=None, simple=False, num_processes=10)\n",
            "==========\n",
            "RUN ARGS: \n",
            "RUN ARGS: \n",
            "Namespace(target='mpi', module='dispel4py.examples.graph_testing.pipeline_test', attr=None, file=None, data=None, iter=20, provenance=None, simple=False, num_processes=10)\n",
            "RUN ARGS: \n",
            "==========\n",
            "Namespace(target='mpi', module='dispel4py.examples.graph_testing.pipeline_test', attr=None, file=None, data=None, iter=20, provenance=None, simple=False, num_processes=10)\n",
            "==========\n",
            "RUN ARGS: \n",
            "Namespace(target='mpi', module='dispel4py.examples.graph_testing.pipeline_test', attr=None, file=None, data=None, iter=20, provenance=None, simple=False, num_processes=10)\n",
            "==========\n",
            "Namespace(target='mpi', module='dispel4py.examples.graph_testing.pipeline_test', attr=None, file=None, data=None, iter=20, provenance=None, simple=False, num_processes=10)\n",
            "==========\n",
            "Processes: {'TestProducer0': range(0, 1), 'TestOneInOneOut1': range(1, 2), 'TestOneInOneOut2': range(2, 3), 'TestOneInOneOut3': range(3, 4), 'TestOneInOneOut4': range(4, 5), 'TestOneInOneOut5': range(5, 6)}\n",
            "ELAPSED TIME: 0.0065021514892578125\n",
            "Namespace(target='mpi', module='dispel4py.examples.graph_testing.pipeline_test', attr=None, file=None, data=None, iter=20, provenance=None, simple=False, num_processes=10)\n",
            "TestProducer0 (rank 0): Processed 20 iterations.\n",
            "TestOneInOneOut1 (rank 1): Processed 20 iterations.\n",
            "TestOneInOneOut2 (rank 2): Processed 20 iterations.\n",
            "ELAPSED TIME: 0.025561094284057617\n",
            "==========\n",
            "ELAPSED TIME: 0.022972583770751953\n",
            "TestOneInOneOut3 (rank 3): Processed 20 iterations.\n",
            "TestOneInOneOut4 (rank 4): Processed 20 iterations.\n",
            "ELAPSED TIME: 0.03049159049987793\n",
            "ELAPSED TIME: 0.018845558166503906\n",
            "ELAPSED TIME: 0.020581960678100586\n",
            "ELAPSED TIME: 0.007587432861328125\n",
            "ELAPSED TIME: 0.03183388710021973\n",
            "ELAPSED TIME: 0.017646074295043945\n",
            "TestOneInOneOut5 (rank 5): Processed 20 iterations.\n",
            "ELAPSED TIME: 0.04348635673522949\n"
          ]
        }
      ]
    },
    {
      "cell_type": "code",
      "source": [
        "!mpiexec -n 10 --allow-run-as-root --oversubscribe  dispel4py mpi dispel4py.examples.graph_testing.pipeline_test -i 20 -n 10"
      ],
      "metadata": {
        "colab": {
          "base_uri": "https://localhost:8080/"
        },
        "id": "6j92fpWHAB9V",
        "outputId": "56970cd7-db45-4dec-e09b-11c1efcdc937"
      },
      "execution_count": null,
      "outputs": [
        {
          "output_type": "stream",
          "name": "stdout",
          "text": [
            "Processing 20 iterations.\n",
            "Processing 20 iterations.\n",
            "Processing 20 iterations.\n",
            "Processing 20 iterations.\n",
            "Processing 20 iterations.\n",
            "Processing 20 iterations.\n",
            "Processing 20 iterations.\n",
            "Processing 20 iterations.\n",
            "Processing 20 iterations.\n",
            "Processing 20 iterations.\n",
            "RUN ARGS: \n",
            "Namespace(target='mpi', module='dispel4py.examples.graph_testing.pipeline_test', attr=None, file=None, data=None, iter=20, provenance=None, simple=False, num_processes=10)\n",
            "==========\n",
            "RUN ARGS: \n",
            "RUN ARGS: \n",
            "Namespace(target='mpi', module='dispel4py.examples.graph_testing.pipeline_test', attr=None, file=None, data=None, iter=20, provenance=None, simple=False, num_processes=10)\n",
            "==========\n",
            "Namespace(target='mpi', module='dispel4py.examples.graph_testing.pipeline_test', attr=None, file=None, data=None, iter=20, provenance=None, simple=False, num_processes=10)\n",
            "==========\n",
            "RUN ARGS: \n",
            "Namespace(target='mpi', module='dispel4py.examples.graph_testing.pipeline_test', attr=None, file=None, data=None, iter=20, provenance=None, simple=False, num_processes=10)\n",
            "==========\n",
            "RUN ARGS: \n",
            "RUN ARGS: \n",
            "RUN ARGS: \n",
            "RUN ARGS: \n",
            "Namespace(target='mpi', module='dispel4py.examples.graph_testing.pipeline_test', attr=None, file=None, data=None, iter=20, provenance=None, simple=False, num_processes=10)\n",
            "Namespace(target='mpi', module='dispel4py.examples.graph_testing.pipeline_test', attr=None, file=None, data=None, iter=20, provenance=None, simple=False, num_processes=10)\n",
            "==========\n",
            "==========\n",
            "Namespace(target='mpi', module='dispel4py.examples.graph_testing.pipeline_test', attr=None, file=None, data=None, iter=20, provenance=None, simple=False, num_processes=10)\n",
            "==========\n",
            "Processes: {'TestProducer0': range(0, 1), 'TestOneInOneOut1': range(1, 2), 'TestOneInOneOut2': range(2, 3), 'TestOneInOneOut3': range(3, 4), 'TestOneInOneOut4': range(4, 5), 'TestOneInOneOut5': range(5, 6)}\n",
            "TestProducer0 (rank 0): Processed 20 iterations.\n",
            "ELAPSED TIME: 0.011022090911865234\n",
            "TestOneInOneOut1 (rank 1): Processed 20 iterations.\n",
            "ELAPSED TIME: 0.008313894271850586\n",
            "Namespace(target='mpi', module='dispel4py.examples.graph_testing.pipeline_test', attr=None, file=None, data=None, iter=20, provenance=None, simple=False, num_processes=10)\n",
            "==========\n",
            "TestOneInOneOut2 (rank 2): Processed 20 iterations.\n",
            "TestOneInOneOut3 (rank 3): Processed 20 iterations.\n",
            "RUN ARGS: \n",
            "ELAPSED TIME: 0.006834983825683594\n",
            "ELAPSED TIME: 0.008134603500366211\n",
            "RUN ARGS: \n",
            "Namespace(target='mpi', module='dispel4py.examples.graph_testing.pipeline_test', attr=None, file=None, data=None, iter=20, provenance=None, simple=False, num_processes=10)\n",
            "==========\n",
            "Namespace(target='mpi', module='dispel4py.examples.graph_testing.pipeline_test', attr=None, file=None, data=None, iter=20, provenance=None, simple=False, num_processes=10)\n",
            "==========\n",
            "TestOneInOneOut4 (rank 4): Processed 20 iterations.\n",
            "ELAPSED TIME: 0.032552242279052734\n",
            "ELAPSED TIME: 0.025153160095214844\n",
            "ELAPSED TIME: 0.00619053840637207\n",
            "TestOneInOneOut5 (rank 5): Processed 20 iterations.\n",
            "ELAPSED TIME: 0.0397031307220459\n",
            "ELAPSED TIME: 0.010879755020141602\n",
            "ELAPSED TIME: 0.03362464904785156\n"
          ]
        }
      ]
    }
  ]
}